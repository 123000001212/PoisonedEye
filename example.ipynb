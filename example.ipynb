{
 "cells": [
  {
   "cell_type": "markdown",
   "id": "f887128c",
   "metadata": {},
   "source": [
    "## 1. Download everything you need"
   ]
  },
  {
   "cell_type": "markdown",
   "id": "79063ebb",
   "metadata": {},
   "source": [
    "### Download datasets"
   ]
  },
  {
   "cell_type": "markdown",
   "id": "46be4013",
   "metadata": {},
   "source": [
    "Download M-BEIR"
   ]
  },
  {
   "cell_type": "code",
   "execution_count": 1,
   "id": "a2a28ed3",
   "metadata": {},
   "outputs": [
    {
     "name": "stdout",
     "output_type": "stream",
     "text": [
      "/data/home/guest1/.conda/envs/poisonedeye/lib/python3.10/site-packages/huggingface_hub/file_download.py:943: FutureWarning: `resume_download` is deprecated and will be removed in version 1.0.0. Downloads always resume when possible. If you want to force a new download, use `force_download=True`.\n",
      "  warnings.warn(\n",
      "Fetching 115 files: 100%|████████████████████| 115/115 [00:00<00:00, 439.01it/s]\n",
      "/data/home/guest1/PoisonedEye/M-BEIR\n"
     ]
    }
   ],
   "source": [
    "# download mbeir from huggingface (this could take very loooong time)\n",
    "# (optional) If you cannot access HuggingFace directly, use a hf mirror site by setting \"HF_ENDPOINT=https://hf-mirror.com\"\n",
    "!HF_ENDPOINT=https://hf-mirror.com huggingface-cli download --repo-type dataset --resume-download TIGER-Lab/M-BEIR --local-dir M-BEIR"
   ]
  },
  {
   "cell_type": "code",
   "execution_count": 2,
   "id": "effb2c1b",
   "metadata": {},
   "outputs": [
    {
     "name": "stdout",
     "output_type": "stream",
     "text": [
      "/data/home/guest1/PoisonedEye/M-BEIR\n"
     ]
    },
    {
     "name": "stderr",
     "output_type": "stream",
     "text": [
      "/data/home/guest1/.conda/envs/poisonedeye/lib/python3.10/site-packages/IPython/core/magics/osm.py:417: UserWarning: This is now an optional IPython functionality, setting dhist requires you to install the `pickleshare` library.\n",
      "  self.shell.db['dhist'] = compress_dhist(dhist)[-100:]\n"
     ]
    }
   ],
   "source": [
    "# Navigate to the M-BEIR directory\n",
    "%cd ./M-BEIR\n",
    "\n",
    "# Combine the split tar.gz files into one\n",
    "!sh -c 'cat mbeir_images.tar.gz.part-00 mbeir_images.tar.gz.part-01 mbeir_images.tar.gz.part-02 mbeir_images.tar.gz.part-03 > mbeir_images.tar.gz'\n",
    "\n",
    "# Extract the images from the tar.gz file\n",
    "!tar -xzf mbeir_images.tar.gz"
   ]
  },
  {
   "cell_type": "markdown",
   "id": "e83ee3af",
   "metadata": {},
   "source": [
    "Add full OVEN-Wiki cand_pool to M-BEIR"
   ]
  },
  {
   "cell_type": "code",
   "execution_count": 3,
   "id": "13406176",
   "metadata": {},
   "outputs": [
    {
     "name": "stdout",
     "output_type": "stream",
     "text": [
      "/data/home/guest1/PoisonedEye/M-BEIR/cand_pool/local\n",
      "Archive:  mbeir_oven_task8_2m_cand_pool.zip\n",
      "  inflating: mbeir_oven_task8_2m_cand_pool.jsonl  "
     ]
    },
    {
     "name": "stderr",
     "output_type": "stream",
     "text": [
      "/data/home/guest1/.conda/envs/poisonedeye/lib/python3.10/site-packages/IPython/core/magics/osm.py:417: UserWarning: This is now an optional IPython functionality, setting dhist requires you to install the `pickleshare` library.\n",
      "  self.shell.db['dhist'] = compress_dhist(dhist)[-100:]\n"
     ]
    },
    {
     "name": "stdout",
     "output_type": "stream",
     "text": [
      "\n"
     ]
    }
   ],
   "source": [
    "# Navigate to the M-BEIR cand_pool directory \"./M-BEIR/cand_pool/local\"\n",
    "%cd ./cand_pool/local\n",
    "\n",
    "# Download json.zip from \"https://drive.google.com/file/d/1wQBGk4Ha_rvYEA0X-8ECX-lwce4wHCBa/view?usp=sharing\"\n",
    "!gdown \"https://drive.google.com/uc?id=1wQBGk4Ha_rvYEA0X-8ECX-lwce4wHCBa\" -O \"mbeir_oven_task8_2m_cand_pool.zip\"\n",
    "\n",
    "# Extract the file\n",
    "!unzip mbeir_oven_task8_2m_cand_pool.zip"
   ]
  },
  {
   "cell_type": "markdown",
   "id": "c6c1c8b8",
   "metadata": {},
   "source": [
    "Download ImageNet-1k, Places-365 for class-wise evalutaion"
   ]
  },
  {
   "cell_type": "code",
   "execution_count": null,
   "id": "0bcfad37",
   "metadata": {},
   "outputs": [],
   "source": [
    "# go back to root dir of the repo\n",
    "%cd ../../.."
   ]
  },
  {
   "cell_type": "code",
   "execution_count": null,
   "id": "c7218d3b",
   "metadata": {},
   "outputs": [
    {
     "name": "stdout",
     "output_type": "stream",
     "text": [
      "/data/home/guest1/.conda/envs/poisonedeye/lib/python3.10/site-packages/huggingface_hub/file_download.py:943: FutureWarning: `resume_download` is deprecated and will be removed in version 1.0.0. Downloads always resume when possible. If you want to force a new download, use `force_download=True`.\n",
      "  warnings.warn(\n",
      "Fetching 1 files: 100%|██████████████████████████| 1/1 [00:00<00:00, 924.06it/s]\n",
      "/data/home/guest1/PoisonedEye/imagenet-1k\n"
     ]
    }
   ],
   "source": [
    "# Imagenet-1k (set your hf token here)\n",
    "!HF_ENDPOINT=https://hf-mirror.com huggingface-cli download --repo-type dataset --resume-download ILSVRC/imagenet-1k --include \"data/val_images.tar.gz\" --local-dir imagenet-1k --token hf_***"
   ]
  },
  {
   "cell_type": "code",
   "execution_count": 9,
   "id": "30d2cf46",
   "metadata": {},
   "outputs": [
    {
     "name": "stdout",
     "output_type": "stream",
     "text": [
      "/data/home/guest1/PoisonedEye/imagenet-1k/data\n"
     ]
    },
    {
     "name": "stderr",
     "output_type": "stream",
     "text": [
      "/data/home/guest1/.conda/envs/poisonedeye/lib/python3.10/site-packages/IPython/core/magics/osm.py:417: UserWarning: This is now an optional IPython functionality, setting dhist requires you to install the `pickleshare` library.\n",
      "  self.shell.db['dhist'] = compress_dhist(dhist)[-100:]\n"
     ]
    }
   ],
   "source": [
    "%cd ./imagenet-1k/data\n",
    "!tar -xzf val_images.tar.gz"
   ]
  },
  {
   "cell_type": "code",
   "execution_count": null,
   "id": "a366e24d",
   "metadata": {},
   "outputs": [
    {
     "name": "stdout",
     "output_type": "stream",
     "text": [
      "/data/home/guest1/PoisonedEye\n"
     ]
    },
    {
     "name": "stderr",
     "output_type": "stream",
     "text": [
      "/data/home/guest1/.conda/envs/poisonedeye/lib/python3.10/site-packages/IPython/core/magics/osm.py:417: UserWarning: This is now an optional IPython functionality, setting dhist requires you to install the `pickleshare` library.\n",
      "  self.shell.db['dhist'] = compress_dhist(dhist)[-100:]\n"
     ]
    }
   ],
   "source": [
    "# go back to root dir of the repo\n",
    "%cd ../../"
   ]
  },
  {
   "cell_type": "code",
   "execution_count": 13,
   "id": "59a9f93d",
   "metadata": {},
   "outputs": [
    {
     "name": "stdout",
     "output_type": "stream",
     "text": [
      "/data/home/guest1/.conda/envs/poisonedeye/lib/python3.10/site-packages/huggingface_hub/file_download.py:943: FutureWarning: `resume_download` is deprecated and will be removed in version 1.0.0. Downloads always resume when possible. If you want to force a new download, use `force_download=True`.\n",
      "  warnings.warn(\n",
      "Fetching 27 files: 100%|██████████████████████| 27/27 [00:00<00:00, 3109.19it/s]\n",
      "/data/home/guest1/PoisonedEye/places365\n"
     ]
    }
   ],
   "source": [
    "# Places-365\n",
    "!HF_ENDPOINT=https://hf-mirror.com huggingface-cli download --repo-type dataset --resume-download haideraltahan/wds_places365 --local-dir places365"
   ]
  },
  {
   "cell_type": "markdown",
   "id": "476717cf",
   "metadata": {},
   "source": [
    "### Download Models"
   ]
  },
  {
   "cell_type": "code",
   "execution_count": 14,
   "id": "43948e84",
   "metadata": {},
   "outputs": [
    {
     "name": "stdout",
     "output_type": "stream",
     "text": [
      "/data/home/guest1/.conda/envs/poisonedeye/lib/python3.10/site-packages/huggingface_hub/file_download.py:943: FutureWarning: `resume_download` is deprecated and will be removed in version 1.0.0. Downloads always resume when possible. If you want to force a new download, use `force_download=True`.\n",
      "  warnings.warn(\n",
      "Fetching 9 files: 100%|█████████████████████████| 9/9 [00:00<00:00, 6656.45it/s]\n",
      "/data/home/guest1/PoisonedEye/siglip-so400m-patch14-384\n",
      "/data/home/guest1/.conda/envs/poisonedeye/lib/python3.10/site-packages/huggingface_hub/file_download.py:943: FutureWarning: `resume_download` is deprecated and will be removed in version 1.0.0. Downloads always resume when possible. If you want to force a new download, use `force_download=True`.\n",
      "  warnings.warn(\n",
      "Fetching 14 files: 100%|█████████████████████| 14/14 [00:00<00:00, 25029.95it/s]\n",
      "/data/home/guest1/PoisonedEye/CLIP-ViT-H-14-laion2B-s32B-b79K\n",
      "/data/home/guest1/.conda/envs/poisonedeye/lib/python3.10/site-packages/huggingface_hub/file_download.py:943: FutureWarning: `resume_download` is deprecated and will be removed in version 1.0.0. Downloads always resume when possible. If you want to force a new download, use `force_download=True`.\n",
      "  warnings.warn(\n",
      "Fetching 17 files: 100%|█████████████████████| 17/17 [00:00<00:00, 18724.57it/s]\n",
      "/data/home/guest1/PoisonedEye/llava-v1.6-mistral-7b-hf\n",
      "/data/home/guest1/.conda/envs/poisonedeye/lib/python3.10/site-packages/huggingface_hub/file_download.py:943: FutureWarning: `resume_download` is deprecated and will be removed in version 1.0.0. Downloads always resume when possible. If you want to force a new download, use `force_download=True`.\n",
      "  warnings.warn(\n",
      "Fetching 17 files: 100%|██████████████████████| 17/17 [00:00<00:00, 4149.88it/s]\n",
      "/data/home/guest1/PoisonedEye/Qwen2-VL-7B-Instruct\n"
     ]
    }
   ],
   "source": [
    "!HF_ENDPOINT=https://hf-mirror.com huggingface-cli download --resume-download google/siglip-so400m-patch14-384 --local-dir siglip-so400m-patch14-384\n",
    "!HF_ENDPOINT=https://hf-mirror.com huggingface-cli download --resume-download laion/CLIP-ViT-H-14-laion2B-s32B-b79K --local-dir CLIP-ViT-H-14-laion2B-s32B-b79K\n",
    "!HF_ENDPOINT=https://hf-mirror.com huggingface-cli download --resume-download llava-hf/llava-v1.6-mistral-7b-hf --local-dir llava-v1.6-mistral-7b-hf \n",
    "!HF_ENDPOINT=https://hf-mirror.com huggingface-cli download --resume-download Qwen/Qwen2-VL-7B-Instruct --local-dir Qwen2-VL-7B-Instruct"
   ]
  },
  {
   "cell_type": "markdown",
   "id": "ec624cfe",
   "metadata": {},
   "source": [
    "## 2. Create databases"
   ]
  },
  {
   "cell_type": "markdown",
   "id": "f21cd7c6",
   "metadata": {},
   "source": [
    "Build retrieval database with faiss index."
   ]
  },
  {
   "cell_type": "code",
   "execution_count": 2,
   "id": "d5a91191",
   "metadata": {},
   "outputs": [
    {
     "name": "stdout",
     "output_type": "stream",
     "text": [
      "\n",
      "---Mbeir Candidate Pool Dataset Config---\n",
      "Candidate Pool Path: cand_pool/local/mbeir_oven_task8_2m_cand_pool.jsonl\n",
      "Returns: {'src_content': False, 'hashed_did': True}\n",
      "--------------------------\n",
      "\n",
      "100%|████████████████████████████████████| 3944/3944 [37:59:32<00:00, 34.68s/it]\n"
     ]
    }
   ],
   "source": [
    "!python mbeir_dataset.py --model_path=\"siglip-so400m-patch14-384\" \\\n",
    "    --dim=1152 --beir_cand_pool_path=\"cand_pool/local/mbeir_oven_task8_2m_cand_pool.jsonl\" \\\n",
    "    --save_path=\"siglip_mbeir_oven_task8_2m_cand_pool.bin\" \\\n",
    "    --beir_path=\"./M-BEIR\""
   ]
  },
  {
   "cell_type": "code",
   "execution_count": 4,
   "id": "b9e807e8",
   "metadata": {},
   "outputs": [
    {
     "name": "stdout",
     "output_type": "stream",
     "text": [
      "\n",
      "---Mbeir Candidate Pool Dataset Config---\n",
      "Candidate Pool Path: cand_pool/local/mbeir_webqa_task2_cand_pool.jsonl\n",
      "Returns: {'src_content': False, 'hashed_did': True}\n",
      "--------------------------\n",
      "\n",
      "100%|███████████████████████████████████████| 788/788 [5:54:49<00:00, 27.02s/it]\n"
     ]
    }
   ],
   "source": [
    "!python mbeir_dataset_imageonly_webqa.py --model_path=\"siglip-so400m-patch14-384\" --dim=1152 --save_path=\"siglip_mbeir_webqa_task2_cand_pool.bin\" --beir_path=\"./M-BEIR\""
   ]
  },
  {
   "cell_type": "markdown",
   "id": "e94b3883",
   "metadata": {},
   "source": [
    "## 3. Start Poisoning"
   ]
  },
  {
   "cell_type": "markdown",
   "id": "074a874f",
   "metadata": {},
   "source": [
    "Note: the following poison type {text-only, poison-sample, poison-class} equals to {PE-B, PE-S, PE-C} in the paper."
   ]
  },
  {
   "cell_type": "markdown",
   "id": "537745b0",
   "metadata": {},
   "source": [
    "Sample-wise evaluation. poison_type ∈ {text-only, poison-sample}"
   ]
  },
  {
   "cell_type": "code",
   "execution_count": null,
   "id": "ee098c10",
   "metadata": {},
   "outputs": [],
   "source": [
    "!python llava_inference_rag_poison_final.py \\\n",
    "    --poison_type=poison-sample \\\n",
    "    --retrieval_encoder_path=\"siglip-so400m-patch14-384\" \\\n",
    "    --retrieval_database_path=\"siglip_mbeir_oven_task8_2m_cand_pool.bin\" \\\n",
    "    --mbeir_subset_name=infoseek \\\n",
    "    --eval_number=1000 \\\n",
    "    --disable_tqdm=False"
   ]
  },
  {
   "cell_type": "markdown",
   "id": "1ca6f113",
   "metadata": {},
   "source": [
    "Class-wise evaluation. poison_type ∈ {text-only, poison-sample, poison-class}\n",
    "\n",
    "Note: We used class-wise evaluation in our experiments."
   ]
  },
  {
   "cell_type": "code",
   "execution_count": 15,
   "id": "c0fef80d",
   "metadata": {},
   "outputs": [
    {
     "name": "stdout",
     "output_type": "stream",
     "text": [
      "Resolving data files: 100%|█████████████████| 24/24 [00:00<00:00, 184703.30it/s]\n",
      "Loading dataset shards: 100%|█████████████████| 23/23 [00:00<00:00, 9316.17it/s]\n",
      "Loading checkpoint shards: 100%|██████████████████| 4/4 [00:01<00:00,  4.00it/s]\n",
      "Expanding inputs for image tokens in LLaVa-NeXT should be done in processing. Please add `patch_size` and `vision_feature_select_strategy` to the model's processing config or set directly with `processor.patch_size = {{patch_size}}` and processor.vision_feature_select_strategy = {{vision_feature_select_strategy}}`. Using processors without these attributes in the config is deprecated and will throw an error in v4.50.\n",
      "Acc: 1/365 = 0.0027397260273972603\n",
      "Poison Success: 319/365 = 0.873972602739726\n",
      "Retrieval Success (Top-1): 305/365 = 0.8356164383561644\n",
      "Retrieval Success (Top-k): 338/365 = 0.9260273972602739\n",
      "Avg Retrieval Distance: 278.0692655444145/365 = 0.7618336042312727\n",
      "Poison Type: poison-class, Eval Type: class-wise, Encoder: siglip-so400m-patch14-384\n",
      "Dataset: places-365\n"
     ]
    }
   ],
   "source": [
    "!python llava_inference_rag_poison_final_class.py \\\n",
    "    --poison_type=poison-class \\\n",
    "    --retrieval_encoder_path=\"siglip-so400m-patch14-384\" \\\n",
    "    --retrieval_database_path=\"siglip_mbeir_oven_task8_2m_cand_pool.bin\" \\\n",
    "    --img_database_path=\"siglip_mbeir_webqa_task2_cand_pool.bin\" \\\n",
    "    --eval_dataset=places-365 \\\n",
    "    --eval_dataset_path=places365 \\\n",
    "    --disable_tqdm=False"
   ]
  }
 ],
 "metadata": {
  "kernelspec": {
   "display_name": "poisonedeye",
   "language": "python",
   "name": "python3"
  },
  "language_info": {
   "codemirror_mode": {
    "name": "ipython",
    "version": 3
   },
   "file_extension": ".py",
   "mimetype": "text/x-python",
   "name": "python",
   "nbconvert_exporter": "python",
   "pygments_lexer": "ipython3",
   "version": "3.10.16"
  }
 },
 "nbformat": 4,
 "nbformat_minor": 5
}
